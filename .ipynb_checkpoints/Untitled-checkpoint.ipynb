{
 "cells": [
  {
   "cell_type": "code",
   "execution_count": 19,
   "metadata": {
    "scrolled": true
   },
   "outputs": [
    {
     "name": "stdout",
     "output_type": "stream",
     "text": [
      "https://blockchain.info/charts/avg-block-size\n"
     ]
    },
    {
     "ename": "NameError",
     "evalue": "global name 'avg_block_size' is not defined",
     "output_type": "error",
     "traceback": [
      "\u001b[0;31m---------------------------------------------------------------------------\u001b[0m",
      "\u001b[0;31mNameError\u001b[0m                                 Traceback (most recent call last)",
      "\u001b[0;32m<ipython-input-19-7623df17a06d>\u001b[0m in \u001b[0;36m<module>\u001b[0;34m()\u001b[0m\n\u001b[1;32m     60\u001b[0m         \u001b[0;32mreturn\u001b[0m \u001b[0mdf\u001b[0m\u001b[0;34m\u001b[0m\u001b[0m\n\u001b[1;32m     61\u001b[0m \u001b[0;34m\u001b[0m\u001b[0m\n\u001b[0;32m---> 62\u001b[0;31m \u001b[0;32mprint\u001b[0m\u001b[0;34m(\u001b[0m\u001b[0mdrop_inititial_rows\u001b[0m\u001b[0;34m(\u001b[0m\u001b[0mapi\u001b[0m\u001b[0;34m)\u001b[0m\u001b[0;34m)\u001b[0m\u001b[0;34m\u001b[0m\u001b[0m\n\u001b[0m\u001b[1;32m     63\u001b[0m \u001b[0;31m# txs = pd.read_csv(urllib.urlopen(\"https://api.blockchain.info/charts/n-transactions?timespan=all&format=csv\"))\u001b[0m\u001b[0;34m\u001b[0m\u001b[0;34m\u001b[0m\u001b[0m\n\u001b[1;32m     64\u001b[0m \u001b[0;31m# print(txs)\u001b[0m\u001b[0;34m\u001b[0m\u001b[0;34m\u001b[0m\u001b[0m\n",
      "\u001b[0;32m<ipython-input-19-7623df17a06d>\u001b[0m in \u001b[0;36mdrop_inititial_rows\u001b[0;34m(api, start_date)\u001b[0m\n\u001b[1;32m     36\u001b[0m \u001b[0;34m\u001b[0m\u001b[0m\n\u001b[1;32m     37\u001b[0m         \u001b[0;31m# Drop values before 2013, to be consistent with BTC Exchange dataset\u001b[0m\u001b[0;34m\u001b[0m\u001b[0;34m\u001b[0m\u001b[0m\n\u001b[0;32m---> 38\u001b[0;31m         \u001b[0mdata\u001b[0m \u001b[0;34m=\u001b[0m \u001b[0mdata\u001b[0m\u001b[0;34m.\u001b[0m\u001b[0mdrop\u001b[0m\u001b[0;34m(\u001b[0m\u001b[0mavg_block_size\u001b[0m\u001b[0;34m[\u001b[0m\u001b[0mavg_block_size\u001b[0m\u001b[0;34m[\u001b[0m\u001b[0;34m'date'\u001b[0m\u001b[0;34m]\u001b[0m \u001b[0;34m<\u001b[0m \u001b[0;34m'2013-04-28'\u001b[0m\u001b[0;34m]\u001b[0m\u001b[0;34m.\u001b[0m\u001b[0mindex\u001b[0m\u001b[0;34m)\u001b[0m\u001b[0;34m\u001b[0m\u001b[0m\n\u001b[0m\u001b[1;32m     39\u001b[0m         \u001b[0mdata\u001b[0m \u001b[0;34m=\u001b[0m \u001b[0mdata\u001b[0m\u001b[0;34m.\u001b[0m\u001b[0mreset_index\u001b[0m\u001b[0;34m(\u001b[0m\u001b[0mdrop\u001b[0m\u001b[0;34m=\u001b[0m\u001b[0mTrue\u001b[0m\u001b[0;34m)\u001b[0m\u001b[0;34m\u001b[0m\u001b[0m\n\u001b[1;32m     40\u001b[0m         \u001b[0;32mreturn\u001b[0m \u001b[0mdata\u001b[0m\u001b[0;34m\u001b[0m\u001b[0m\n",
      "\u001b[0;31mNameError\u001b[0m: global name 'avg_block_size' is not defined"
     ]
    }
   ],
   "source": [
    "import pandas as pd\n",
    "import datetime\n",
    "import urllib2 as urllib\n",
    "import time\n",
    "import numpy as np\n",
    "import pandas as pd\n",
    "from datetime import timedelta\n",
    "import numpy as np\n",
    "\n",
    "api = \"https://blockchain.info/charts/avg-block-size\" \n",
    "\n",
    "\n",
    "def drop_inititial_rows(api, start_date='2013-04-28'):\n",
    "    print(api)\n",
    "    # Read data \n",
    "    api_range_format= api+'?timespan=all&format=csv'\n",
    "#     print(api_range_format)\n",
    "    data = pd.read_csv(urllib.urlopen(api_range_format))\n",
    "    \n",
    "    # Check if its the Block Size data\n",
    "    if 'avg' in api:\n",
    "        # Format columns\n",
    "        data = pd.DataFrame(data.values, columns=['date', 'avg_block_size'])\n",
    "        data['date'] = pd.to_datetime(data['date'], format='%Y-%m-%d')\n",
    "        data['date'] = pd.DataFrame(data=data['date'], columns=['date'])\n",
    "\n",
    "        data['date'] = pd.to_datetime(data['date'])\n",
    "\n",
    "        # Add dates that do not appear at all, because their blocksize was same as the day before\n",
    "        data = data.set_index('date').resample('D').ffill()\n",
    "\n",
    "        # Reset index\n",
    "        data.index.name='date'\n",
    "        data = data.reset_index()\n",
    "        data = data\n",
    "\n",
    "        # Drop values before 2013, to be consistent with BTC Exchange dataset\n",
    "        data = data.drop(data[data['date'] < '2013-04-28'].index)\n",
    "        data = data.reset_index(drop=True)\n",
    "        return data\n",
    "        \n",
    "    elif 'transactions' in api:\n",
    "        # Get the average block size from blockchain.info; max size ==> 1 MB (by design)\n",
    "        df = data\n",
    "        df = pd.DataFrame(df.values, columns=['date', 'avg_block_size'])\n",
    "        df['date'] = pd.to_datetime(df['date'], format='%Y-%m-%d')\n",
    "        df['date'] = pd.DataFrame(data=df['date'], columns=['date'])\n",
    "        df['date']=df\n",
    "        df['date'] = pd.to_datetime(df['date'])\n",
    "        # Remove rows corresponding to dates before 2013-05-02\n",
    "        df = df.set_index('date').resample('D').ffill()\n",
    "        df.index.name='date'\n",
    "        df.index.names = ['date']\n",
    "        data = df.reset_index()\n",
    "        df = data\n",
    "        df[df['date'] < start_date]\n",
    "\n",
    "        df = df.drop(df[df['date'] < start_date].index)\n",
    "        df = df.reset_index(drop=True)\n",
    "        return df\n",
    "    \n",
    "print(drop_inititial_rows(api))   \n",
    "# txs = pd.read_csv(urllib.urlopen(\"https://api.blockchain.info/charts/n-transactions?timespan=all&format=csv\"))\n",
    "# print(txs)"
   ]
  },
  {
   "cell_type": "code",
   "execution_count": null,
   "metadata": {},
   "outputs": [],
   "source": []
  }
 ],
 "metadata": {
  "kernelspec": {
   "display_name": "Python 2",
   "language": "python",
   "name": "python2"
  },
  "language_info": {
   "codemirror_mode": {
    "name": "ipython",
    "version": 2
   },
   "file_extension": ".py",
   "mimetype": "text/x-python",
   "name": "python",
   "nbconvert_exporter": "python",
   "pygments_lexer": "ipython2",
   "version": "2.7.15rc1"
  }
 },
 "nbformat": 4,
 "nbformat_minor": 2
}

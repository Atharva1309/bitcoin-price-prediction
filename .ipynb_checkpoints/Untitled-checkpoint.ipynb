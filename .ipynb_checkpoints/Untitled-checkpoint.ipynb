{
 "cells": [
  {
   "cell_type": "code",
   "execution_count": 94,
   "metadata": {
    "scrolled": true
   },
   "outputs": [],
   "source": [
    "import pandas as pd\n",
    "import datetime\n",
    "import urllib2 as urllib\n",
    "import time\n",
    "import numpy as np\n",
    "import pandas as pd\n",
    "from datetime import timedelta\n",
    "import numpy as np\n",
    "\n",
    "# Get the average block size from blockchain.info; max size ==> 1 MB (by design)\n",
    "df = pd.read_csv(urllib.urlopen(\"https://blockchain.info/charts/avg-block-size?timespan=all&format=csv\"))\n",
    "\n",
    "df = pd.DataFrame(df.values, columns=['date', 'avg_block_size'])\n",
    "df['date'] = pd.to_datetime(df['date'], format='%Y-%m-%d')\n",
    "df['date'] = pd.DataFrame(data=df['date'], columns=['date'])\n",
    "df['date']=df\n",
    "\n",
    "df['date'] = pd.to_datetime(df['date'])\n",
    "# Remove rows corresponding to dates before 2013-05-02\n",
    "df = df.set_index('date').resample('D').ffill()\n",
    "df.index.name='date'\n",
    "\n",
    "df.index.names = ['date']\n",
    "data = df.reset_index()\n",
    "df = data\n",
    "df[df['date'] < '2013-05-02']\n",
    "\n",
    "df = df.drop(df[df['date'] < '2013-05-02'].index)\n",
    "df = df.reset_index(drop=True)\n",
    "# print(df['date'])"
   ]
  },
  {
   "cell_type": "code",
   "execution_count": null,
   "metadata": {},
   "outputs": [],
   "source": []
  }
 ],
 "metadata": {
  "kernelspec": {
   "display_name": "Python 2",
   "language": "python",
   "name": "python2"
  },
  "language_info": {
   "codemirror_mode": {
    "name": "ipython",
    "version": 2
   },
   "file_extension": ".py",
   "mimetype": "text/x-python",
   "name": "python",
   "nbconvert_exporter": "python",
   "pygments_lexer": "ipython2",
   "version": "2.7.15rc1"
  }
 },
 "nbformat": 4,
 "nbformat_minor": 2
}

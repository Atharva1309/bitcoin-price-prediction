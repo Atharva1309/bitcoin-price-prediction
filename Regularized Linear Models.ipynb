{
 "cells": [
  {
   "cell_type": "code",
   "execution_count": null,
   "metadata": {},
   "outputs": [],
   "source": [
    "\"\"\"\n",
    "    For a linear model, regularization is typically achieved \n",
    "    by constraining the weights of the model! \n",
    "    Whereas in polynomial models by reducing the number of polynomial \n",
    "    degrees.\n",
    "    \n",
    "    Some ways to constrain weights are:\n",
    "    - Ridge Regression (Tikhonov regularization)\n",
    "    - Lasso Regression -- tends to eliminate the weights of least important\n",
    "        features\n",
    "    - Elastic net -- mix of above\n",
    "    \n",
    "    Another way to regularize iterative learning algorithms\n",
    "    such as GD is to stop training as soon as the \n",
    "    validation error reaches a minimum ----> early stopping\n",
    "\"\"\"\n"
   ]
  }
 ],
 "metadata": {
  "kernelspec": {
   "display_name": "Python 2",
   "language": "python",
   "name": "python2"
  },
  "language_info": {
   "codemirror_mode": {
    "name": "ipython",
    "version": 2
   },
   "file_extension": ".py",
   "mimetype": "text/x-python",
   "name": "python",
   "nbconvert_exporter": "python",
   "pygments_lexer": "ipython2",
   "version": "2.7.15rc1"
  }
 },
 "nbformat": 4,
 "nbformat_minor": 2
}

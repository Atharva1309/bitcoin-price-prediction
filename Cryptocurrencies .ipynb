{
 "cells": [
  {
   "cell_type": "code",
   "execution_count": 1,
   "metadata": {},
   "outputs": [
    {
     "ename": "NameError",
     "evalue": "name 'Cryptory' is not defined",
     "output_type": "error",
     "traceback": [
      "\u001b[0;31m---------------------------------------------------------------------------\u001b[0m",
      "\u001b[0;31mNameError\u001b[0m                                 Traceback (most recent call last)",
      "\u001b[0;32m<ipython-input-1-14660693f6fd>\u001b[0m in \u001b[0;36m<module>\u001b[0;34m()\u001b[0m\n\u001b[1;32m      4\u001b[0m \u001b[0;32mimport\u001b[0m \u001b[0mmatplotlib\u001b[0m\u001b[0;34m.\u001b[0m\u001b[0mpyplot\u001b[0m \u001b[0;32mas\u001b[0m \u001b[0mplt\u001b[0m\u001b[0;34m\u001b[0m\u001b[0m\n\u001b[1;32m      5\u001b[0m \u001b[0;34m\u001b[0m\u001b[0m\n\u001b[0;32m----> 6\u001b[0;31m \u001b[0mmy_cryptory\u001b[0m \u001b[0;34m=\u001b[0m \u001b[0mCryptory\u001b[0m\u001b[0;34m(\u001b[0m\u001b[0mfrom_date\u001b[0m\u001b[0;34m=\u001b[0m\u001b[0;34m\"2018-01-01\"\u001b[0m\u001b[0;34m)\u001b[0m\u001b[0;34m\u001b[0m\u001b[0m\n\u001b[0m\u001b[1;32m      7\u001b[0m \u001b[0mall_coins_df\u001b[0m \u001b[0;34m=\u001b[0m \u001b[0mmy_cryptory\u001b[0m\u001b[0;34m.\u001b[0m\u001b[0mextract_bitinfocharts\u001b[0m\u001b[0;34m(\u001b[0m\u001b[0;34m\"btc\"\u001b[0m\u001b[0;34m)\u001b[0m\u001b[0;34m\u001b[0m\u001b[0m\n\u001b[1;32m      8\u001b[0m \u001b[0;31m# coins of interest\u001b[0m\u001b[0;34m\u001b[0m\u001b[0;34m\u001b[0m\u001b[0m\n",
      "\u001b[0;31mNameError\u001b[0m: name 'Cryptory' is not defined"
     ]
    }
   ],
   "source": [
    "# Pearson correlation on all data sources\n",
    "import pandas as pd\n",
    "import seaborn as sns\n",
    "import matplotlib.pyplot as plt\n",
    "from cryptory import Cryptory\n",
    "\n",
    "my_cryptory = Cryptory(from_date=\"2018-01-01\")\n",
    "all_coins_df = my_cryptory.extract_bitinfocharts(\"btc\")\n",
    "# coins of interest\n",
    "bitinfocoins = [\"btc\", \"eth\", \"xrp\", \"bch\", \"ltc\", \"dash\", \"xmr\", \"doge\"]\n",
    "for coin in bitinfocoins[1:]:\n",
    "    all_coins_df = all_coins_df.merge(my_cryptory.extract_bitinfocharts(coin), on=\"date\", how=\"left\")\n",
    "# date column not need for upcoming calculations\n",
    "all_coins_df = all_coins_df.drop('date', axis=1)\n",
    "# Percentage change => \n",
    "# first calculate: Increase = y_t - y_(t-1) then calculate: %Increace = (Increase-y_(t-1))*100\n",
    "\"\"\"\n",
    "    %Increase is used both to track the prices of individual securities and \n",
    "    of large market indexes, as well as comparing the values of different currencies.  \n",
    "    Balance sheets with comparative financial statements will generally include the \n",
    "    prices of specific assets at different points in time along with the percentage \n",
    "    changes over the accompanying periods of time.  \n",
    "\"\"\"\n",
    "# Compute pairwise correlation of columns, excluding NA/null values\n",
    "corr = all_coins_df.pct_change().corr(method='pearson')\n",
    "fig, ax = plt.subplots(figsize=(7,5))  \n",
    "sns.heatmap(corr, \n",
    "            xticklabels=[col.replace(\"_price\", \"\") for col in corr.columns.values],\n",
    "            yticklabels=[col.replace(\"_price\", \"\") for col in corr.columns.values],\n",
    "            annot_kws={\"size\": 16})\n",
    "plt.show()"
   ]
  },
  {
   "cell_type": "code",
   "execution_count": null,
   "metadata": {},
   "outputs": [],
   "source": [
    "import matplotlib.pyplot as plt\n",
    "all_coins_df.hist(bins=50, figsize=(20,15))\n",
    "# print(all_coins_df)\n",
    "plt.show()"
   ]
  }
 ],
 "metadata": {
  "kernelspec": {
   "display_name": "Python 3",
   "language": "python",
   "name": "python3"
  },
  "language_info": {
   "codemirror_mode": {
    "name": "ipython",
    "version": 2
   },
   "file_extension": ".py",
   "mimetype": "text/x-python",
   "name": "python",
   "nbconvert_exporter": "python",
   "pygments_lexer": "ipython2",
   "version": "2.7.15rc1"
  }
 },
 "nbformat": 4,
 "nbformat_minor": 2
}

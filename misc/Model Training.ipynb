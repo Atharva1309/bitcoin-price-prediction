{
 "cells": [
  {
   "cell_type": "code",
   "execution_count": 22,
   "metadata": {},
   "outputs": [
    {
     "data": {
      "image/png": "[encoded data removed]",
      "text/plain": [
       "<Figure size 432x288 with 1 Axes>"
      ]
     },
     "metadata": {
      "needs_background": "light"
     },
     "output_type": "display_data"
    },
    {
     "name": "stdout",
     "output_type": "stream",
     "text": [
      "[[3.75994604]\n",
      " [3.25192093]]\n"
     ]
    }
   ],
   "source": [
    "\"\"\"\n",
    "    Linear Regression model, and 2 very different\n",
    "    ways to train it:\n",
    "        1. Using a direct \"closed-form\" equation that directly comoputes the model \n",
    "        params that best fit the training set (i.e., the model params\n",
    "        that minimize the cost function over the training set)\n",
    "        2. Using an iterative optimization approach called Gradient Descent, that\n",
    "        gradually tweaks the model params to minimize the cost function \n",
    "        over the training data, eventually converging to the same \n",
    "        set of params as the first method. We will look at a few varients of GD\n",
    "        that we'll use again and agin when we study nn: Batch GD, Mini-Batch GD, \n",
    "        and Stochastic GD.\n",
    "    \n",
    "    On the other hand, Polynomial Regression, is a more complex model\n",
    "    that can fit nonlinear datasets. \n",
    "    This model has more params than LN => its more prone to overfitting\n",
    "    the data, so we'll look at how to detect whether or not \n",
    "    this is the case, using learning curves, and then we'll look at \n",
    "    several regularization techniques that can reduce the risk \n",
    "    of overfitting the training set. \n",
    "    \n",
    "    Finally,two (more) models that are used in **classification\n",
    "    tasks are Logistic regression and Softmax regression\n",
    "    \n",
    "    -----------------------------------------------------------------\n",
    "    \n",
    "    Linear regression: life_satisfaction = theta_0 + theta_1 * GDP_per_capita\n",
    "    \n",
    "    More generally, a linear model makes a prediction by simply computing \n",
    "    a weighted sum of the input features, plus a constant called the bias term\n",
    "    (or intercept term)\n",
    "    \n",
    "    y' = theta_0 + theta_1_x_1 + theta_2_x_2 + ... _ theta_n_x_n\n",
    "    such that:\n",
    "        - y' ----> the predicted value\n",
    "        - n -----> number of features***\n",
    "        - x_i -----> is the ith feature value\n",
    "        - theta_j ----> the jth model parameter (including the bias term theta_0\n",
    "          and feature weights theta_1, ..., theta_n)\n",
    "    \n",
    "    This can be written in vectorized form as:\n",
    "        y' = h_theta(x) = theta^T · x\n",
    "    \n",
    "    where:\n",
    "        - theta ----> the model's param vector, containg the bias term theta_0 \n",
    "            and the feature weights theta_1 to theta_n\n",
    "        - theta_T -----> the transpose of theta \n",
    "        - x ----> the instance's feature vector, containing x_0 to x_n, with\n",
    "            x_0 always equal to 1\n",
    "        - theta_T · x -----> the dot product of theta_T and x\n",
    "        - h_theta -----> is the hypothesis function, using the model params theta\n",
    "     \n",
    "    Recall that training a model means simply setting its params\n",
    "    so that the model BEST FITS the training set. \n",
    "    Therefore, we need to measure the 'Bestness' by using a common\n",
    "    performance measure of a regression model --> RMSE (Root Mean Square Error)\n",
    "    \n",
    "    So, to train a LR model, you need to find the value of theta that\n",
    "    minimizes RMSE. In practice its simpler to minimize the MSE than RMSE\n",
    "    , and it leads to same result because the value that minimizes a function\n",
    "    minimizes its square root as well. \n",
    "    \n",
    "    MSE cost function for a LR model:\n",
    "    MSE(X, h_theta) = 1/m SUM(theta^T · x^(i) - y^(i))^2\n",
    "    So instead of h we write h_theta to make it clear that \n",
    "    the model is parametrized by the vector theta. \n",
    "    \n",
    "    How do we find the value of theta that minimizes the cost function?\n",
    "    There is a closed-form solution -- in other words a math equation\n",
    "    that gices the result directly. This is called the Normal Equation:\n",
    "    \n",
    "    theta' = (x ^ T · x)^-1 · y\n",
    "        - theta' is the value of theta that minimizes the cost function\n",
    "        - y is the vector of target values containing y^(1) to y^(m)\n",
    "\"\"\"\n",
    "import numpy as np\n",
    "import matplotlib.pyplot as plt\n",
    "\n",
    "# Randomly gen data set\n",
    "X = 2 * np.random.rand(100, 1)\n",
    "y = 4 + 3 * X + np.random.randn(100, 1)\n",
    "\n",
    "plt.scatter(X, y, color=\"blue\")\n",
    "plt.xlabel('X')\n",
    "plt.ylabel('y')\n",
    "plt.show()\n",
    "\n",
    "# Now we compute the theta' using the normal equation; \n",
    "# We'll use the inv() function from NumPy's Linear Algebra module\n",
    "# np.linalg, to compute the inverse of a matrix, \n",
    "# and the dot() method for matrix multiplication\n",
    "\n",
    "# First add the bias to instances\n",
    "X_b = np.c_[np.ones((100,1)), X]\n",
    "\n",
    "theta_best = np.linalg.inv(X_b.T.dot(X_b)).dot(X_b.T).dot(y)\n",
    "\n",
    "\n",
    "print(theta_best)"
   ]
  },
  {
   "cell_type": "code",
   "execution_count": 14,
   "metadata": {},
   "outputs": [
    {
     "data": {
      "text/plain": [
       "array([[4.07997318],\n",
       "       [9.86067293]])"
      ]
     },
     "execution_count": 14,
     "metadata": {},
     "output_type": "execute_result"
    }
   ],
   "source": [
    "# Using theta_best to make predictions:\n",
    "X_new = np.array([[0], [2]])\n",
    "X_new_b = np.c_[np.ones((2,1)), X_new]\n",
    "y_predict = X_new_b.dot(theta_best)\n",
    "y_predict"
   ]
  },
  {
   "cell_type": "code",
   "execution_count": 20,
   "metadata": {},
   "outputs": [
    {
     "data": {
      "image/png": "[encoded data removed]",
      "text/plain": [
       "<Figure size 432x288 with 1 Axes>"
      ]
     },
     "metadata": {
      "needs_background": "light"
     },
     "output_type": "display_data"
    }
   ],
   "source": [
    "# Plot the models' preductions\n",
    "plt.plot(X_new, y_predict, \"r\")\n",
    "plt.plot(X, y, \"b.\")\n",
    "plt.axis([0, 2, 0, 15])\n",
    "plt.show()"
   ]
  },
  {
   "cell_type": "code",
   "execution_count": 23,
   "metadata": {},
   "outputs": [
    {
     "data": {
      "text/plain": [
       "array([[0.86829385],\n",
       "       [0.08048944]])"
      ]
     },
     "execution_count": 23,
     "metadata": {},
     "output_type": "execute_result"
    }
   ],
   "source": [
    "# Gradient Descent\n",
    "eta = 0.1 # learning rate\n",
    "n_iterations = 1000\n",
    "m = 100\n",
    "\n",
    "theta = np.random.randn(2, 1) # random initialization\n",
    "\n",
    "for iteration in range(n_iterations):\n",
    "    gradients = 2/m * X_b.T.dot(X_b.dot(theta) - y)\n",
    "    theta = theta - eta * gradients\n",
    "theta"
   ]
  },
  {
   "cell_type": "code",
   "execution_count": null,
   "metadata": {},
   "outputs": [],
   "source": []
  }
 ],
 "metadata": {
  "kernelspec": {
   "display_name": "Python 2",
   "language": "python",
   "name": "python2"
  },
  "language_info": {
   "codemirror_mode": {
    "name": "ipython",
    "version": 2
   },
   "file_extension": ".py",
   "mimetype": "text/x-python",
   "name": "python",
   "nbconvert_exporter": "python",
   "pygments_lexer": "ipython2",
   "version": "2.7.15rc1"
  }
 },
 "nbformat": 4,
 "nbformat_minor": 2
}

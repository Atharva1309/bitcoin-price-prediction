{
 "cells": [
  {
   "cell_type": "markdown",
   "metadata": {},
   "source": [
    "# Table of Contents\n",
    "1. [Imports](#Imports)\n",
    "2. [Load Data](#load_data)\n",
    "4. [ML Pipeline](#ml_pipeline)\n",
    "   - [Split Data (Testing, Training Data Sets)](#split_data)\n",
    "   - [Set Window Length](#win_len_metrics)\n",
    "   - [Fill Training, Test Data](#fill_training_test)\n",
    "   - [Load Model](#load_model)\n",
    "   - [Train Model](#train_model)\n",
    "   - [Graph Predicted Values with Training Set](#graph_pred_training_set)\n",
    "   - [Graph Predicted Values with Test Data](#graph_pred_test_set)"
   ]
  },
  {
   "cell_type": "markdown",
   "metadata": {},
   "source": [
    "### <a name=\"imports\"></a>Imports"
   ]
  },
  {
   "cell_type": "code",
   "execution_count": 3,
   "metadata": {},
   "outputs": [],
   "source": [
    "import matplotlib.pyplot as plt\n",
    "from datetime import timedelta\n",
    "import pandas as pd\n",
    "import numpy as np\n",
    "import datetime\n",
    "import time\n",
    "\n",
    "from_date=\"2013-04-28\"\n",
    "to_date=\"2018-10-01\"\n",
    "pd.set_option('display.expand_frame_repr', False)\n"
   ]
  },
  {
   "cell_type": "markdown",
   "metadata": {
    "collapsed": true
   },
   "source": [
    "### <a name=\"load_data\"></a>Load Data"
   ]
  },
  {
   "cell_type": "code",
   "execution_count": 4,
   "metadata": {},
   "outputs": [
    {
    }
   ],
   "source": [
    "model_data = pd.read_csv('model_data.csv').iloc[:, 1:]\n",
    "# Fillimisht i kthej ne rend zbrites te dhenat\n",
    "model_data = model_data.assign(date=pd.to_datetime(model_data['date']))\n",
    "model_data = model_data.sort_values(by='date')\n",
    "model_data"
   ]
  },
  {
   "cell_type": "code",
   "execution_count": 3,
   "metadata": {},
   "outputs": [
    {
     "data": {
      "text/plain": [
       "False"
      ]
     },
     "execution_count": 3,
     "metadata": {},
     "output_type": "execute_result"
    }
   ],
   "source": [
    "model_data.head()\n",
    "model_data.isnull().values.any()"
   ]
  },
  {
   "cell_type": "code",
   "execution_count": 4,
   "metadata": {},
   "outputs": [],
   "source": [
    "model_data = model_data[model_data['date']>=\"2016-01-01\"]"
   ]
  },
  {
   "cell_type": "markdown",
   "metadata": {},
   "source": [
    "#### <a name=\"split_data\"></a>Split Data (Testing, Training Data Sets)"
   ]
  },
  {
   "cell_type": "code",
   "execution_count": 6,
   "metadata": {},
   "outputs": [],
   "source": [
    "split_date='2018-04-25'\n",
    "# Heq kolonen e dates meqe nuk na duhet me\n",
    "training_set, test_set = model_data[model_data['date']<split_date], model_data[model_data['date']>=split_date]\n",
    "training_set = training_set.drop('date', 1)\n",
    "test_set = test_set.drop('date', 1)"
   ]
  },
  {
   "cell_type": "code",
   "execution_count": 30,
   "metadata": {
    "scrolled": true
   },
   "outputs": [],
   "source": [
    "# print(len(training_set))\n",
    "# print(len(test_set)) \n",
    "# print(len(model_data))"
   ]
  },
  {
   "cell_type": "code",
   "execution_count": 8,
   "metadata": {},
   "outputs": [
    {
     "data": {
      "text/html": [
       "<iframe id=\"igraph\" scrolling=\"no\" style=\"border:none;\" seamless=\"seamless\" src=\"https://plot.ly/~kstruga/2.embed\" height=\"525px\" width=\"100%\"></iframe>"
      ],
      "text/plain": [
       "<plotly.tools.PlotlyDisplay object>"
      ]
     },
     "execution_count": 8,
     "metadata": {},
     "output_type": "execute_result"
    }
   ],
   "source": [
    "import plotly.plotly as py\n",
    "import plotly.graph_objs as go\n",
    "\n",
    "import pandas as pd\n",
    "\n",
    "training = go.Scatter(\n",
    "                x=model_data[model_data['date'] < split_date]['date'].astype(datetime.datetime),\n",
    "                y=model_data[model_data['date'] < split_date]['btc_close'],\n",
    "                name = \"Trajnim\",\n",
    "                line = dict(color = '#6D13C1'),\n",
    "                opacity = 0.8)\n",
    "\n",
    "test = go.Scatter(\n",
    "                x=model_data[model_data['date'] >= split_date]['date'].astype(datetime.datetime),\n",
    "                y=model_data[model_data['date'] >= split_date]['btc_close'],\n",
    "                name = \"Testim\",\n",
    "                line = dict(color = '#17BECF'),\n",
    "                opacity = 0.8)\n",
    "\n",
    "\n",
    "data = [training, test]\n",
    "\n",
    "layout = dict(\n",
    "    title = \"Ndarja e te dhenave ne bashkesi per trajnim (80%) dhe testim (20%) \",\n",
    "    xaxis = dict(\n",
    "        range = ['2016-01-01','2018-10-30']),\n",
    "     yaxis=dict(\n",
    "        title='Cmimi Normalizuar i Bitcoin')\n",
    ")\n",
    "\n",
    "fig = dict(data=data, layout=layout)\n",
    "py.iplot(fig, filename = \"Manually Set Range\")"
   ]
  },
  {
   "cell_type": "markdown",
   "metadata": {},
   "source": [
    "#### <a name=\"win_len_metrics\"></a>Set Window Length"
   ]
  },
  {
   "cell_type": "code",
   "execution_count": 9,
   "metadata": {},
   "outputs": [],
   "source": [
    "window_len=32\n",
    "pred_range=30 \n",
    "\n",
    "training_inputs = []\n",
    "for i in range(len(training_set)-window_len):\n",
    "    temp_set = training_set[i:(i+window_len)].copy()\n",
    "    training_inputs.append(temp_set)   "
   ]
  },
  {
   "cell_type": "markdown",
   "metadata": {},
   "source": [
    "#### <a name=\"fill_training_test\"></a>Fill Training, Test Data"
   ]
  },
  {
   "cell_type": "code",
   "execution_count": 11,
   "metadata": {},
   "outputs": [
    {
     "name": "stdout",
     "output_type": "stream",
     "text": [
      "157\n"
     ]
    }
   ],
   "source": [
    "test_inputs = []\n",
    "for i in range(len(test_set)-window_len):\n",
    "    temp_set = test_set[i:(i+window_len)].copy()\n",
    "    test_inputs.append(temp_set)\n",
    "\n",
    "# print(test_inputs[0])\n",
    "test_outputs = test_set['btc_close'][window_len:].values\n",
    "print(len(test_outputs)) # predicting 45 points in the future"
   ]
  },
  {
   "cell_type": "code",
   "execution_count": 12,
   "metadata": {},
   "outputs": [],
   "source": [
    "training_inputs = [np.array(training_inputs) for training_inputs in training_inputs]\n",
    "training_inputs = np.array(training_inputs)\n",
    "\n",
    "test_inputs = [np.array(test_inputs) for test_inputs in test_inputs]\n",
    "test_inputs = np.array(test_inputs)"
   ]
  },
  {
   "cell_type": "code",
   "execution_count": 13,
   "metadata": {},
   "outputs": [],
   "source": [
    "training_outputs = []\n",
    "for i in range(window_len, len(training_set['btc_close'])-pred_range):\n",
    "    training_outputs.append(training_set['btc_close'][i:i+pred_range].values)\n",
    "    \n",
    "training_outputs = np.array(training_outputs)\n",
    "\n",
    "# testing outputs, which is needed to evaluate/predict the model\n",
    "testing_outputs = []\n",
    "for i in range(window_len, len(test_set['btc_close'])-pred_range):\n",
    "    testing_outputs.append(test_set['btc_close'][i:i+pred_range].values)\n",
    "\n",
    "testing_outputs = np.array(testing_outputs)\n"
   ]
  },
  {
   "cell_type": "code",
   "execution_count": 14,
   "metadata": {},
   "outputs": [
    {
     "name": "stdout",
     "output_type": "stream",
     "text": [
      "(813, 32, 11)\n",
      "(783, 30)\n",
      "(157, 32, 11)\n",
      "(127, 30)\n"
     ]
    }
   ],
   "source": [
    "print(training_inputs.shape)\n",
    "print(training_outputs.shape)\n",
    "\n",
    "print(test_inputs.shape)\n",
    "print(testing_outputs.shape)"
   ]
  },
  {
   "cell_type": "markdown",
   "metadata": {},
   "source": [
    "#### <a name=\"load_model\"></a>Load Model"
   ]
  },
  {
   "cell_type": "code",
   "execution_count": 32,
   "metadata": {},
   "outputs": [],
   "source": [
    "# import Keras modules\n",
    "from keras.models import Sequential\n",
    "from keras.layers import Activation, Dense\n",
    "from keras.layers import LSTM, GRU\n",
    "from keras.layers import Dropout\n",
    "\n",
    "def lstm_model(inputs, output_size, neurons, activ_func=\"relu\",\n",
    "                dropout=0.25, loss=\"mae\", optimizer=\"adam\"):\n",
    "    model = Sequential()\n",
    "    model.add(LSTM(neurons, input_shape=(inputs.shape[1], inputs.shape[2])))\n",
    "    model.add(Dropout(dropout))\n",
    "    model.add(Dense(units=output_size))\n",
    "    model.add(Activation(\"linear\"))\n",
    "\n",
    "    model.compile(loss=loss, optimizer=optimizer)\n",
    "    return model"
   ]
  },
  {
   "cell_type": "markdown",
   "metadata": {},
   "source": [
    "#### <a name=\"train_model\"></a>Train Model"
   ]
  },
  {
   "cell_type": "code",
   "execution_count": 16,
   "metadata": {
    "scrolled": false
   },
   "outputs": [
    {
     "name": "stdout",
     "output_type": "stream",
     "text": [
      "Epoch 1/100\n",
      "783/783 [==============================] - 1s 1ms/step - loss: 0.1000\n",
      "Epoch 2/100\n",
      "783/783 [==============================] - 0s 528us/step - loss: 0.0559\n",
      "Epoch 3/100\n",
      "783/783 [==============================] - 0s 513us/step - loss: 0.0474\n",
      "Epoch 4/100\n",
      "783/783 [==============================] - 0s 502us/step - loss: 0.0420\n",
      "Epoch 5/100\n",
      "783/783 [==============================] - 0s 502us/step - loss: 0.0405\n",
      "Epoch 6/100\n",
      "783/783 [==============================] - 0s 511us/step - loss: 0.0381\n",
      "Epoch 7/100\n",
      "783/783 [==============================] - 0s 529us/step - loss: 0.0352\n",
      "Epoch 8/100\n",
      "783/783 [==============================] - 0s 515us/step - loss: 0.0344\n",
      "Epoch 9/100\n",
      "783/783 [==============================] - 0s 507us/step - loss: 0.0333\n",
      "Epoch 10/100\n",
      "783/783 [==============================] - 0s 510us/step - loss: 0.0315\n",
      "Epoch 11/100\n",
      "783/783 [==============================] - 0s 550us/step - loss: 0.0317\n",
      "Epoch 12/100\n",
      "783/783 [==============================] - 0s 563us/step - loss: 0.0303\n",
      "Epoch 13/100\n",
      "783/783 [==============================] - 0s 500us/step - loss: 0.0294\n",
      "Epoch 14/100\n",
      "783/783 [==============================] - 0s 531us/step - loss: 0.0296\n",
      "Epoch 15/100\n",
      "783/783 [==============================] - 0s 554us/step - loss: 0.0279\n",
      "Epoch 16/100\n",
      "783/783 [==============================] - 0s 558us/step - loss: 0.0274\n",
      "Epoch 17/100\n",
      "783/783 [==============================] - 0s 541us/step - loss: 0.0277\n",
      "Epoch 18/100\n",
      "783/783 [==============================] - 0s 531us/step - loss: 0.0273\n",
      "Epoch 19/100\n",
      "783/783 [==============================] - 0s 531us/step - loss: 0.0291\n",
      "Epoch 20/100\n",
      "783/783 [==============================] - 0s 529us/step - loss: 0.0260\n",
      "Epoch 21/100\n",
      "783/783 [==============================] - 0s 496us/step - loss: 0.0265\n",
      "Epoch 22/100\n",
      "783/783 [==============================] - 0s 518us/step - loss: 0.0259\n",
      "Epoch 23/100\n",
      "783/783 [==============================] - 0s 524us/step - loss: 0.0256\n",
      "Epoch 24/100\n",
      "783/783 [==============================] - 0s 512us/step - loss: 0.0248\n",
      "Epoch 25/100\n",
      "783/783 [==============================] - 0s 514us/step - loss: 0.0251\n",
      "Epoch 26/100\n",
      "783/783 [==============================] - 0s 503us/step - loss: 0.0246\n",
      "Epoch 27/100\n",
      "783/783 [==============================] - 0s 518us/step - loss: 0.0254\n",
      "Epoch 28/100\n",
      "783/783 [==============================] - 0s 501us/step - loss: 0.0272\n",
      "Epoch 29/100\n",
      "783/783 [==============================] - 0s 526us/step - loss: 0.0254\n",
      "Epoch 30/100\n",
      "783/783 [==============================] - 0s 561us/step - loss: 0.0235\n",
      "Epoch 31/100\n",
      "783/783 [==============================] - 0s 505us/step - loss: 0.0232\n",
      "Epoch 32/100\n",
      "783/783 [==============================] - 0s 513us/step - loss: 0.0235\n",
      "Epoch 33/100\n",
      "783/783 [==============================] - 0s 560us/step - loss: 0.0227\n",
      "Epoch 34/100\n",
      "783/783 [==============================] - 0s 540us/step - loss: 0.0229\n",
      "Epoch 35/100\n",
      "783/783 [==============================] - 0s 514us/step - loss: 0.0228\n",
      "Epoch 36/100\n",
      "783/783 [==============================] - 0s 525us/step - loss: 0.0228\n",
      "Epoch 37/100\n",
      "783/783 [==============================] - 0s 513us/step - loss: 0.0226\n",
      "Epoch 38/100\n",
      "783/783 [==============================] - 0s 508us/step - loss: 0.0230\n",
      "Epoch 39/100\n",
      "783/783 [==============================] - 0s 494us/step - loss: 0.0221\n",
      "Epoch 40/100\n",
      "783/783 [==============================] - 0s 528us/step - loss: 0.0233\n",
      "Epoch 41/100\n",
      "783/783 [==============================] - 0s 515us/step - loss: 0.0240\n",
      "Epoch 42/100\n",
      "783/783 [==============================] - 0s 549us/step - loss: 0.0229\n",
      "Epoch 43/100\n",
      "783/783 [==============================] - 0s 525us/step - loss: 0.0210\n",
      "Epoch 44/100\n",
      "783/783 [==============================] - 0s 500us/step - loss: 0.0217\n",
      "Epoch 45/100\n",
      "783/783 [==============================] - 0s 512us/step - loss: 0.0220\n",
      "Epoch 46/100\n",
      "783/783 [==============================] - 0s 528us/step - loss: 0.0220\n",
      "Epoch 47/100\n",
      "783/783 [==============================] - 0s 554us/step - loss: 0.0225\n",
      "Epoch 48/100\n",
      "783/783 [==============================] - 0s 539us/step - loss: 0.0214\n",
      "Epoch 49/100\n",
      "783/783 [==============================] - 0s 539us/step - loss: 0.0216\n",
      "Epoch 50/100\n",
      "783/783 [==============================] - 0s 522us/step - loss: 0.0212\n",
      "Epoch 51/100\n",
      "783/783 [==============================] - 0s 636us/step - loss: 0.0211\n",
      "Epoch 52/100\n",
      "783/783 [==============================] - 1s 658us/step - loss: 0.0220\n",
      "Epoch 53/100\n",
      "783/783 [==============================] - 1s 670us/step - loss: 0.0212\n",
      "Epoch 54/100\n",
      "783/783 [==============================] - 1s 658us/step - loss: 0.0203\n",
      "Epoch 55/100\n",
      "783/783 [==============================] - 1s 662us/step - loss: 0.0225\n",
      "Epoch 56/100\n",
      "783/783 [==============================] - 1s 662us/step - loss: 0.0219\n",
      "Epoch 57/100\n",
      "783/783 [==============================] - 1s 672us/step - loss: 0.0207\n",
      "Epoch 58/100\n",
      "783/783 [==============================] - 1s 670us/step - loss: 0.0199\n",
      "Epoch 59/100\n",
      "783/783 [==============================] - 1s 649us/step - loss: 0.0204\n",
      "Epoch 60/100\n",
      "783/783 [==============================] - 1s 670us/step - loss: 0.0201\n",
      "Epoch 61/100\n",
      "783/783 [==============================] - 1s 655us/step - loss: 0.0212\n",
      "Epoch 62/100\n",
      "783/783 [==============================] - 1s 662us/step - loss: 0.0207\n",
      "Epoch 63/100\n",
      "783/783 [==============================] - 1s 655us/step - loss: 0.0207\n",
      "Epoch 64/100\n",
      "783/783 [==============================] - 1s 660us/step - loss: 0.0213\n",
      "Epoch 65/100\n",
      "783/783 [==============================] - 1s 665us/step - loss: 0.0202\n",
      "Epoch 66/100\n",
      "783/783 [==============================] - 1s 665us/step - loss: 0.0203\n",
      "Epoch 67/100\n",
      "783/783 [==============================] - 1s 684us/step - loss: 0.0197\n",
      "Epoch 68/100\n",
      "783/783 [==============================] - 1s 665us/step - loss: 0.0193\n",
      "Epoch 69/100\n",
      "783/783 [==============================] - 1s 657us/step - loss: 0.0193\n",
      "Epoch 70/100\n",
      "783/783 [==============================] - 1s 667us/step - loss: 0.0196\n",
      "Epoch 71/100\n",
      "783/783 [==============================] - 1s 667us/step - loss: 0.0202\n",
      "Epoch 72/100\n",
      "783/783 [==============================] - 1s 690us/step - loss: 0.0191\n",
      "Epoch 73/100\n",
      "783/783 [==============================] - 1s 661us/step - loss: 0.0196\n",
      "Epoch 74/100\n",
      "783/783 [==============================] - 1s 664us/step - loss: 0.0196\n",
      "Epoch 75/100\n",
      "783/783 [==============================] - 1s 658us/step - loss: 0.0196\n",
      "Epoch 76/100\n",
      "783/783 [==============================] - 1s 659us/step - loss: 0.0195\n",
      "Epoch 77/100\n",
      "783/783 [==============================] - 1s 678us/step - loss: 0.0186\n",
      "Epoch 78/100\n",
      "783/783 [==============================] - 1s 672us/step - loss: 0.0193\n",
      "Epoch 79/100\n",
      "783/783 [==============================] - 1s 657us/step - loss: 0.0185\n",
      "Epoch 80/100\n",
      "783/783 [==============================] - 1s 710us/step - loss: 0.0186\n",
      "Epoch 81/100\n",
      "783/783 [==============================] - 1s 682us/step - loss: 0.0179\n",
      "Epoch 82/100\n",
      "783/783 [==============================] - 1s 663us/step - loss: 0.0194\n",
      "Epoch 83/100\n",
      "783/783 [==============================] - 1s 677us/step - loss: 0.0185\n",
      "Epoch 84/100\n",
      "783/783 [==============================] - 1s 678us/step - loss: 0.0182\n",
      "Epoch 85/100\n",
      "783/783 [==============================] - 1s 673us/step - loss: 0.0188\n",
      "Epoch 86/100\n",
      "783/783 [==============================] - 1s 685us/step - loss: 0.0200\n",
      "Epoch 87/100\n",
      "783/783 [==============================] - 1s 672us/step - loss: 0.0191\n",
      "Epoch 88/100\n",
      "783/783 [==============================] - 1s 669us/step - loss: 0.0181\n",
      "Epoch 89/100\n",
      "783/783 [==============================] - 1s 689us/step - loss: 0.0185\n",
      "Epoch 90/100\n",
      "783/783 [==============================] - 1s 667us/step - loss: 0.0190\n",
      "Epoch 91/100\n",
      "783/783 [==============================] - 1s 659us/step - loss: 0.0185\n",
      "Epoch 92/100\n",
      "783/783 [==============================] - 1s 681us/step - loss: 0.0184\n",
      "Epoch 93/100\n",
      "783/783 [==============================] - 1s 675us/step - loss: 0.0185\n",
      "Epoch 94/100\n",
      "783/783 [==============================] - 1s 677us/step - loss: 0.0188\n",
      "Epoch 95/100\n",
      "783/783 [==============================] - 1s 666us/step - loss: 0.0183\n",
      "Epoch 96/100\n",
      "783/783 [==============================] - 1s 669us/step - loss: 0.0179\n",
      "Epoch 97/100\n",
      "783/783 [==============================] - 1s 652us/step - loss: 0.0178\n",
      "Epoch 98/100\n",
      "783/783 [==============================] - 1s 650us/step - loss: 0.0176\n",
      "Epoch 99/100\n",
      "783/783 [==============================] - 0s 621us/step - loss: 0.0184\n",
      "Epoch 100/100\n",
      "783/783 [==============================] - 1s 639us/step - loss: 0.0178\n"
     ]
    }
   ],
   "source": [
    "# random seed for reproducibility\n",
    "np.random.seed(202)\n",
    "\n",
    "# initialise model architecture\n",
    "bt_model = lstm_model(training_inputs, output_size=pred_range, neurons = 100)\n",
    "# bt_model = denser_model(LSTM_training_inputs, output_size=pred_range, neurons = 100)\n",
    "\n",
    "# print(bt_model.get_weights())\n",
    "# train model on data\n",
    "bt_history = bt_model.fit(training_inputs[:-pred_range], training_outputs, \n",
    "                            epochs=100, batch_size=32, verbose=1, shuffle=True)\n",
    "\n",
    "loss_fn=str(np.mean(bt_history.history['loss']))"
   ]
  },
  {
   "cell_type": "code",
   "execution_count": 17,
   "metadata": {},
   "outputs": [],
   "source": [
    "from ann_visualizer.visualize import ann_viz;\n",
    "from keras.utils.vis_utils import plot_model\n",
    "graph = plot_model(bt_model, to_file=\"my_model.png\", show_shapes=True)"
   ]
  },
  {
   "cell_type": "code",
   "execution_count": 33,
   "metadata": {},
   "outputs": [
    {
     "data": {
      "image/png": "[encoded data removed]",
      "text/plain": [
       "<Figure size 432x432 with 1 Axes>"
      ]
     },
     "metadata": {
      "needs_background": "light"
     },
     "output_type": "display_data"
    },
    {
     "data": {
      "text/plain": [
       "'mae'"
      ]
     },
     "execution_count": 33,
     "metadata": {},
     "output_type": "execute_result"
    }
   ],
   "source": [
    "from pylab import rcParams\n",
    "rcParams['figure.figsize'] = 6, 6\n",
    "\n",
    "# fig.clear()\n",
    "fig, ax1 = plt.subplots(1,1)\n",
    "\n",
    "ax1.plot(bt_history.epoch, bt_history.history['loss'])\n",
    "ax1.set_title('Convergence Error')\n",
    "\n",
    "if bt_model.loss == 'mae':\n",
    "    ax1.set_ylabel('Mean Absolute Error (MAE)',fontsize=12)\n",
    "# just in case you decided to change the model loss calculation\n",
    "else:\n",
    "    ax1.set_ylabel('Model Loss',fontsize=12)\n",
    "ax1.set_xlabel('# of epochs',fontsize=12)\n",
    "plt.show()\n",
    "bt_model.loss"
   ]
  },
  {
   "cell_type": "code",
   "execution_count": 19,
   "metadata": {
    "scrolled": true
   },
   "outputs": [
    {
     "name": "stdout",
     "output_type": "stream",
     "text": [
      "From Training History: 0.024224783271648665\n",
      "Scikit: 0.014191409959949499\n",
      "Mean from Prediction: 0.0142\n",
      "dict_keys(['loss'])\n"
     ]
    }
   ],
   "source": [
    "import sklearn.metrics\n",
    "\n",
    "# From History though: \n",
    "print(\"From Training History: \" + str(np.mean(bt_history.history['loss'])) )\n",
    "\n",
    "a=bt_model.predict(training_inputs[:-pred_range])\n",
    "\n",
    "print( \"Scikit: \" + str(sklearn.metrics.mean_absolute_error(training_outputs, bt_model.predict(training_inputs[:-pred_range]))))\n",
    "\n",
    "print('Mean from Prediction: %.4f'%np.mean(np.abs((bt_model.predict(training_inputs[:-pred_range]))-\\\n",
    "            (training_outputs))))\n",
    "\n",
    "# print('MAE: %.4f'%np.mean(np.abs((bt_model.predict(LSTM_test_inputs[:-pred_range]))-\\\n",
    "#             (LSTM_training_outputs))))\n",
    "print(bt_history.history.keys())"
   ]
  },
  {
   "cell_type": "markdown",
   "metadata": {},
   "source": [
    "#### <a name=\"graph_pred_training_set\"></a>Graph Predicted Values with Training Set"
   ]
  },
  {
   "cell_type": "code",
   "execution_count": 20,
   "metadata": {
    "scrolled": true
   },
   "outputs": [
    {
     "data": {
      "text/html": [
       "<iframe id=\"igraph\" scrolling=\"no\" style=\"border:none;\" seamless=\"seamless\" src=\"https://plot.ly/~kstruga/4.embed\" height=\"525px\" width=\"100%\"></iframe>"
      ],
      "text/plain": [
       "<plotly.tools.PlotlyDisplay object>"
      ]
     },
     "execution_count": 20,
     "metadata": {},
     "output_type": "execute_result"
    }
   ],
   "source": [
    "import plotly.plotly as py\n",
    "import sklearn.metrics\n",
    "import plotly.graph_objs as go\n",
    "\n",
    "mae_test_error =sklearn.metrics.mean_absolute_error(training_outputs, bt_model.predict(training_inputs[:-pred_range]))\n",
    "\n",
    "# Create a trace\n",
    "real_price = go.Scatter(\n",
    "    x = model_data[model_data['date']< split_date]['date'][window_len:].astype(datetime.datetime),\n",
    "    y = training_set['btc_close'][window_len:],\n",
    "    name = \"Cmimi i Vertete\",\n",
    "    marker = dict(\n",
    "        size = 10,\n",
    "        color = 'rgba(152, 0, 0, .8)'\n",
    "    )\n",
    ")\n",
    "\n",
    "predicted_price = go.Scatter(\n",
    "    x = model_data[model_data['date']< split_date]['date'][window_len:].astype(datetime.datetime),\n",
    "    y = ((np.transpose(bt_model.predict(training_inputs))))[0], \n",
    "    name = \"Cmimi i Parashikuar\",\n",
    "    marker = dict(\n",
    "        size = 10,\n",
    "        color = \"#82E0AA\"\n",
    "    )\n",
    ")\n",
    "\n",
    "layout = dict(title = 'Parashikimi ne Bashkesine e Trajnimit, MAE: %.4f'%+ mae_test_error,\n",
    "              yaxis = dict(title = 'Bitcoin Price (USD)'),\n",
    "            )\n",
    "\n",
    "data = [real_price,predicted_price]\n",
    "\n",
    "fig = dict(data=data, layout=layout)\n",
    "\n",
    "py.iplot(fig, filename='bitcoin-prediction')"
   ]
  },
  {
   "cell_type": "code",
   "execution_count": 21,
   "metadata": {},
   "outputs": [
    {
     "data": {
      "text/plain": [
       "157"
      ]
     },
     "execution_count": 21,
     "metadata": {},
     "output_type": "execute_result"
    }
   ],
   "source": [
    "# model_data[model_data['date']>=split_date]\n",
    "len(test_outputs)\n",
    "len(test_set['btc_close'][window_len:])"
   ]
  },
  {
   "cell_type": "code",
   "execution_count": 22,
   "metadata": {
    "scrolled": true
   },
   "outputs": [],
   "source": [
    "# test_set['btc_close'].values[window_len:].min()\n",
    "a=test_set['btc_close'].values[window_len:]\n",
    "\n",
    "real_values = []\n",
    "\n",
    "min_value= a.min()\n",
    "max_value= a.max()\n",
    "\n",
    "for x in np.nditer(a):\n",
    "    k= (x - min_value)/(max_value - min_value)\n",
    "    real_values.append(k)\n",
    "\n",
    "# print(real_values)\n",
    "# for i in range(test_set['btc_close'].values[window_len:]):\n",
    "#     print(i)"
   ]
  },
  {
   "cell_type": "code",
   "execution_count": 23,
   "metadata": {},
   "outputs": [
    {
     "name": "stdout",
     "output_type": "stream",
     "text": [
      "132\n",
      "157\n"
     ]
    }
   ],
   "source": [
    "test_data_used = test_set['btc_close'].values[window_len:]\n",
    "\n",
    "exchange_data_reverse = pd.read_csv('exchange_data_reverse.csv').iloc[:, 1:]\n",
    "\n",
    "real_training_set, real_test_set = exchange_data_reverse[exchange_data_reverse['date']<split_date], exchange_data_reverse[exchange_data_reverse['date']>=split_date]\n",
    "\n",
    "# print(real_test_set['btc_close'].values[window_len:])\n",
    "\n",
    "real_test_data_used = real_test_set.values[window_len:]\n",
    "\n",
    "print(len(real_test_data_used))\n",
    "print(len(test_data_used))\n",
    "# for i, (test_data_used, real_test_data_used) in enumerate(zip(eth_pred_prices, bt_pred_prices)):\n",
    "#     # Only adding lines to the legend once\n",
    "#     if i<5:\n",
    "\n",
    "# test_data_used"
   ]
  },
  {
   "cell_type": "code",
   "execution_count": 24,
   "metadata": {},
   "outputs": [
    {
     "data": {
      "text/plain": [
       "array([0.40973186, 0.4143368 , 0.41282147, 0.409403  , 0.4215629 ,\n",
       "       0.4170653 , 0.41710758, 0.42189765, 0.41945753, 0.43406254,\n",
       "       0.4326306 , 0.4337323 , 0.43074226, 0.4308077 , 0.42968807,\n",
       "       0.42823905, 0.42875284, 0.4236344 , 0.41772223, 0.42127118,\n",
       "       0.4097243 , 0.41112733, 0.40110224, 0.39978623, 0.39615524,\n",
       "       0.39262345, 0.38463867, 0.3685216 , 0.3797532 , 0.38190576],\n",
       "      dtype=float32)"
      ]
     },
     "execution_count": 24,
     "metadata": {},
     "output_type": "execute_result"
    }
   ],
   "source": [
    "bt_model.predict(test_inputs)[69]\n",
    "# 19"
   ]
  },
  {
   "cell_type": "markdown",
   "metadata": {},
   "source": [
    "#### <a name=\"graph_pred_test_set\"></a>Graph Predicted Values with Test Data"
   ]
  },
  {
   "cell_type": "code",
   "execution_count": 25,
   "metadata": {},
   "outputs": [
    {
     "data": {
      "text/html": [
       "<iframe id=\"igraph\" scrolling=\"no\" style=\"border:none;\" seamless=\"seamless\" src=\"https://plot.ly/~kstruga/4.embed\" height=\"525px\" width=\"100%\"></iframe>"
      ],
      "text/plain": [
       "<plotly.tools.PlotlyDisplay object>"
      ]
     },
     "execution_count": 25,
     "metadata": {},
     "output_type": "execute_result"
    }
   ],
   "source": [
    "import plotly.plotly as py\n",
    "import sklearn.metrics\n",
    "import plotly.graph_objs as go\n",
    "\n",
    "# llogaritja errorit me scikit\n",
    "# mae_test_error =sklearn.metrics.mean_absolute_error(testing_outputs, bt_model.predict(test_inputs[:-pred_range]))\n",
    "# ne menyre alternative mund ta llogarsim edhe vete:\n",
    "mae_test_error=np.mean(np.abs((np.transpose(bt_model.predict(test_inputs)))-(test_set['btc_close'].values[window_len:])))\n",
    "\n",
    "# Create a trace\n",
    "real_price = go.Scatter(\n",
    "    x = model_data[model_data['date']>=split_date]['date'][window_len:].astype(datetime.datetime),\n",
    "    y = test_set['btc_close'][window_len:],\n",
    "    name = \"Cmimi i Vertete\",\n",
    "    marker = dict(\n",
    "        size = 10,\n",
    "        color = 'rgba(152, 0, 0, .8)'\n",
    "    )\n",
    ")\n",
    "\n",
    "predicted_price = go.Scatter(\n",
    "    x = model_data[model_data['date']>= split_date]['date'][window_len:].astype(datetime.datetime),\n",
    "    y = ((np.transpose(bt_model.predict(test_inputs))))[0], \n",
    "    name = \"Cmimi Parashikuar\",\n",
    "    marker = dict(\n",
    "        size = 5,\n",
    "        color = \"#82E0AA\"\n",
    "    ),\n",
    "    mode = 'lines+markers',\n",
    ")\n",
    "\n",
    "layout = dict(title = 'Parashikimi me te dhenat test, MAE: %.4f'%+ mae_test_error,\n",
    "              yaxis = dict(title = 'Cmimi Bitcoin '))\n",
    "\n",
    "data = [real_price, predicted_price]\n",
    "\n",
    "fig = dict(data=data, layout=layout)\n",
    "\n",
    "py.iplot(fig, filename='bitcoin-prediction')\n"
   ]
  },
  {
   "cell_type": "code",
   "execution_count": 28,
   "metadata": {
    "scrolled": false
   },
   "outputs": [
    {
     "name": "stdout",
     "output_type": "stream",
     "text": [
      "127/127 [==============================] - 0s 905us/step\n",
      "0.08189311119045799\n",
      "783/783 [==============================] - 0s 81us/step\n",
      "0.014191409708553804\n"
     ]
    }
   ],
   "source": [
    "\"\"\"\n",
    "    EVALUATING ON TEST SET; MAE: 0.0301\n",
    "\"\"\"\n",
    "print(bt_model.evaluate(test_inputs[:-pred_range], testing_outputs, batch_size=window_len))\n",
    "print(bt_model.evaluate(training_inputs[:-pred_range], training_outputs, batch_size=200))  "
   ]
  },
  {
   "cell_type": "code",
   "execution_count": 29,
   "metadata": {
    "scrolled": true
   },
   "outputs": [
    {
     "name": "stdout",
     "output_type": "stream",
     "text": [
      "_________________________________________________________________\n",
      "Layer (type)                 Output Shape              Param #   \n",
      "=================================================================\n",
      "lstm_1 (LSTM)                (None, 100)               44800     \n",
      "_________________________________________________________________\n",
      "dropout_1 (Dropout)          (None, 100)               0         \n",
      "_________________________________________________________________\n",
      "dense_1 (Dense)              (None, 30)                3030      \n",
      "_________________________________________________________________\n",
      "activation_1 (Activation)    (None, 30)                0         \n",
      "=================================================================\n",
      "Total params: 47,830\n",
      "Trainable params: 47,830\n",
      "Non-trainable params: 0\n",
      "_________________________________________________________________\n"
     ]
    },
    {
     "data": {
      "text/plain": [
       "[array([[-0.09202094, -0.04477758,  0.08959167, ...,  0.01537165,\n",
       "         -0.073314  , -0.06417377],\n",
       "        [ 0.00505547,  0.02361651, -0.06848758, ..., -0.08808359,\n",
       "          0.03462484, -0.13535029],\n",
       "        [-0.01526635, -0.01265426,  0.05488202, ..., -0.10913139,\n",
       "          0.02069129, -0.00211093],\n",
       "        ...,\n",
       "        [-0.03327118, -0.03761009,  0.06236958, ..., -0.06445208,\n",
       "         -0.08988712, -0.16512781],\n",
       "        [-0.04512416, -0.13078038,  0.00329403, ...,  0.1227261 ,\n",
       "         -0.06649701, -0.04742682],\n",
       "        [ 0.01225006, -0.01095224,  0.02674607, ...,  0.07026706,\n",
       "         -0.13056058,  0.04936855]], dtype=float32),\n",
       " array([[-0.1763637 ,  0.10007595,  0.10380053, ...,  0.01303361,\n",
       "         -0.07163014, -0.06301135],\n",
       "        [-0.04113827,  0.02699297,  0.05498387, ..., -0.0218554 ,\n",
       "          0.02485342, -0.02576483],\n",
       "        [ 0.12865253, -0.08270983,  0.00687388, ...,  0.00450752,\n",
       "         -0.00676276,  0.06027142],\n",
       "        ...,\n",
       "        [-0.09419976,  0.03986738,  0.06676518, ..., -0.05865773,\n",
       "         -0.03787048, -0.05300481],\n",
       "        [-0.10817564,  0.0040993 ,  0.017757  , ..., -0.09409738,\n",
       "         -0.12529019, -0.06514362],\n",
       "        [-0.03333069, -0.0035675 ,  0.00794812, ...,  0.00627174,\n",
       "         -0.00592977,  0.06906907]], dtype=float32),\n",
       " array([-1.19253255e-01, -5.37407063e-02, -9.87740383e-02, -6.42801672e-02,\n",
       "        -1.58171445e-01, -7.17669427e-02, -1.14156090e-01, -6.26365095e-02,\n",
       "        -9.54164043e-02, -1.32852867e-01, -1.20966516e-01, -1.46256611e-01,\n",
       "         1.65480599e-02, -7.59986341e-02, -6.24151640e-02, -5.70677668e-02,\n",
       "        -5.18250652e-02, -7.56646395e-02, -3.07326242e-02, -1.18145823e-01,\n",
       "        -1.27287745e-01, -1.27232209e-01, -4.56246585e-02, -1.17281228e-01,\n",
       "        -6.89259991e-02, -2.87306421e-02, -6.39160275e-02, -5.35222329e-02,\n",
       "        -5.39416000e-02, -7.32035264e-02, -9.62418467e-02, -5.87517880e-02,\n",
       "        -8.48211348e-02, -1.06188115e-02, -7.40326121e-02, -3.06658149e-02,\n",
       "        -8.02136436e-02, -1.72259659e-01, -5.70271611e-02, -7.17503577e-02,\n",
       "        -6.71969056e-02, -5.91047704e-02, -2.90589463e-02, -6.53961524e-02,\n",
       "        -6.91271946e-02, -9.86136869e-02, -1.30905122e-01, -4.80334871e-02,\n",
       "        -1.89451128e-02, -3.87767032e-02, -5.92483878e-02, -6.97644353e-02,\n",
       "        -8.49917904e-02, -4.27013189e-02, -8.02202076e-02, -5.04716188e-02,\n",
       "        -7.24181682e-02, -7.64368400e-02, -1.55679863e-02,  1.27254175e-02,\n",
       "        -5.75509481e-02, -9.83557254e-02, -6.45923167e-02, -1.30977750e-01,\n",
       "        -3.72393578e-02, -7.68044665e-02, -9.57628712e-02, -8.29672590e-02,\n",
       "        -7.32564181e-02, -3.40654254e-02, -8.16413239e-02, -7.37505406e-02,\n",
       "        -8.84788707e-02, -8.07289779e-02, -8.95675942e-02, -1.09579220e-01,\n",
       "        -8.04640949e-02, -7.40440190e-02, -1.10645927e-01, -1.29377872e-01,\n",
       "        -8.60843584e-02, -5.31591922e-02, -1.45242929e-01, -8.47774595e-02,\n",
       "        -1.82517439e-01, -4.91147563e-02, -6.95427358e-02, -7.50678629e-02,\n",
       "        -5.48229292e-02, -8.48138854e-02, -5.51369973e-02, -4.47566062e-02,\n",
       "        -1.17160775e-01, -1.06884703e-01, -1.02310106e-01, -7.97366872e-02,\n",
       "        -7.60712922e-02, -2.38732658e-02, -8.23991001e-02, -1.23684727e-01,\n",
       "         9.24163043e-01,  9.52675879e-01,  9.01033282e-01,  1.01855814e+00,\n",
       "         8.87280941e-01,  9.40981567e-01,  8.81572366e-01,  9.44868088e-01,\n",
       "         9.25782382e-01,  9.47092354e-01,  8.82989645e-01,  8.70219469e-01,\n",
       "         1.04506612e+00,  8.97447407e-01,  9.91460085e-01,  8.60775173e-01,\n",
       "         9.68227565e-01,  9.23152506e-01,  9.60241735e-01,  8.79270613e-01,\n",
       "         8.98384631e-01,  8.93996179e-01,  9.93423939e-01,  8.83262694e-01,\n",
       "         9.07623887e-01,  9.87871051e-01,  9.32741582e-01,  9.93644238e-01,\n",
       "         9.54761147e-01,  9.22996521e-01,  8.90985608e-01,  9.68703866e-01,\n",
       "         9.16373253e-01,  8.99446607e-01,  9.36048090e-01,  9.93390977e-01,\n",
       "         8.97796273e-01,  9.11482990e-01,  1.00854921e+00,  9.39552486e-01,\n",
       "         9.51867402e-01,  9.46916401e-01,  9.40611541e-01,  9.05504286e-01,\n",
       "         9.00082886e-01,  9.55085158e-01,  8.96202505e-01,  9.45593774e-01,\n",
       "         9.88609314e-01,  9.73774731e-01,  9.32857692e-01,  9.65615213e-01,\n",
       "         8.64619434e-01,  1.00061369e+00,  9.26287830e-01,  9.41473305e-01,\n",
       "         9.30741847e-01,  9.21691120e-01,  1.00684083e+00,  1.00307524e+00,\n",
       "         9.29546595e-01,  8.96335781e-01,  9.32279825e-01,  9.20410991e-01,\n",
       "         9.03811097e-01,  9.22733366e-01,  9.18374717e-01,  9.48591471e-01,\n",
       "         9.64788258e-01,  8.88073564e-01,  1.04861021e+00,  9.58037019e-01,\n",
       "         8.99242759e-01,  9.21229541e-01,  8.88655066e-01,  9.21683252e-01,\n",
       "         1.08789372e+00,  9.01918471e-01,  9.36619997e-01,  9.24339354e-01,\n",
       "         9.43916142e-01,  9.80124712e-01,  9.09640670e-01,  9.40639675e-01,\n",
       "         8.77063632e-01,  9.71095204e-01,  9.40273583e-01,  9.26163375e-01,\n",
       "         9.51463521e-01,  9.26022649e-01,  9.34462130e-01,  9.46645677e-01,\n",
       "         8.92452896e-01,  9.04427230e-01,  9.01710868e-01,  9.51200306e-01,\n",
       "         8.89911473e-01,  1.00457478e+00,  9.21257019e-01,  9.27040994e-01,\n",
       "        -3.20461276e-03,  6.39028288e-03,  3.26414444e-02, -8.75286292e-03,\n",
       "        -2.17513312e-02,  3.21689136e-02,  5.82141988e-03,  2.51263399e-02,\n",
       "        -2.78383382e-02,  2.61336733e-02,  2.12431755e-02, -3.35990004e-02,\n",
       "         7.62731861e-03, -2.80414093e-02, -1.58054326e-02,  3.57243046e-02,\n",
       "        -1.11697949e-02,  3.70559283e-02, -3.49383405e-03, -3.69073302e-02,\n",
       "         3.74653749e-02, -9.17345006e-03, -1.77022684e-02, -6.41220389e-03,\n",
       "        -6.36457093e-03,  1.33156525e-02, -2.56034173e-02,  1.71413161e-02,\n",
       "        -2.22988380e-03, -8.91646650e-03, -4.59329574e-04, -5.83017804e-03,\n",
       "        -1.11908279e-02,  3.17494594e-03,  4.51822020e-03,  1.12366071e-03,\n",
       "         4.69915457e-02,  3.53192650e-02, -1.00147184e-02,  8.71717278e-03,\n",
       "         1.11513091e-02, -3.88753489e-02, -5.15871756e-02, -1.57683846e-02,\n",
       "         2.87515335e-02,  1.44582782e-02,  9.46593937e-03,  3.92792784e-02,\n",
       "        -5.39786182e-03,  7.34718563e-03, -2.36207095e-04,  3.85999191e-03,\n",
       "         2.95697339e-02,  2.69091744e-02, -1.13582453e-02, -1.44834369e-02,\n",
       "         8.48316029e-03,  1.13009326e-02, -2.42568348e-02, -1.29372152e-02,\n",
       "        -4.22704266e-03,  1.12002669e-02,  2.22013183e-02,  2.62321755e-02,\n",
       "        -1.02063967e-02,  2.93639791e-03,  1.60155036e-02, -2.16898099e-02,\n",
       "         1.63181741e-02, -1.23301533e-03,  1.43487693e-03, -2.10720934e-02,\n",
       "         2.17746906e-02, -1.52063165e-02, -2.46327911e-02,  2.51004603e-02,\n",
       "         2.72052437e-02, -2.84546278e-02, -2.16781889e-04,  1.30215390e-02,\n",
       "         1.42205518e-03, -3.80938724e-02,  6.57382421e-03, -4.76027541e-02,\n",
       "         8.17431975e-03,  3.00583802e-02,  3.56103713e-03, -2.32782774e-02,\n",
       "         7.20205298e-03, -3.48645039e-02,  1.38499876e-02,  9.10692010e-03,\n",
       "        -1.67570226e-02, -2.77048629e-03, -3.31885815e-02,  2.80911243e-03,\n",
       "         4.62181121e-03, -5.81429526e-03,  1.57848769e-03,  2.48603779e-03,\n",
       "        -1.25272900e-01, -6.04868419e-02, -1.01196848e-01, -7.73638934e-02,\n",
       "        -1.42288387e-01, -7.03166276e-02, -1.20773531e-01, -6.70787394e-02,\n",
       "        -9.79748815e-02, -1.28305525e-01, -1.20368920e-01, -1.31734490e-01,\n",
       "        -1.99865513e-02, -8.13813061e-02, -6.55895919e-02, -5.88274784e-02,\n",
       "        -5.86091727e-02, -9.62678492e-02, -2.56282371e-02, -1.19208038e-01,\n",
       "        -1.34114087e-01, -1.27648830e-01, -4.73864563e-02, -1.27325967e-01,\n",
       "        -7.15687796e-02, -3.22895609e-02, -6.45973682e-02, -6.13162480e-02,\n",
       "        -6.31259754e-02, -7.95783997e-02, -9.74699333e-02, -6.16057627e-02,\n",
       "        -7.62882829e-02, -2.34879833e-02, -7.09503070e-02, -4.42700498e-02,\n",
       "        -7.92423263e-02, -1.61683261e-01, -6.22614920e-02, -6.63372651e-02,\n",
       "        -6.97023720e-02, -5.01845926e-02, -2.20018663e-02, -7.20237866e-02,\n",
       "        -7.06552640e-02, -9.92188528e-02, -1.39327079e-01, -4.34303023e-02,\n",
       "        -2.59607714e-02, -4.82393056e-02, -6.14153072e-02, -9.06588510e-02,\n",
       "        -8.62778127e-02, -4.58984599e-02, -8.15333351e-02, -5.34897223e-02,\n",
       "        -8.52769315e-02, -8.01219270e-02, -2.71793585e-02,  1.42099215e-02,\n",
       "        -8.75710621e-02, -1.02551892e-01, -6.89831749e-02, -1.36476964e-01,\n",
       "        -4.59536649e-02, -7.14978650e-02, -9.96229425e-02, -9.31565613e-02,\n",
       "        -7.09202066e-02, -4.00119647e-02, -1.08287781e-01, -7.35116079e-02,\n",
       "        -9.42299515e-02, -9.25743058e-02, -9.53182131e-02, -9.65851098e-02,\n",
       "        -7.97579810e-02, -7.19051063e-02, -1.04366310e-01, -1.20477878e-01,\n",
       "        -8.40091556e-02, -4.54372354e-02, -1.45114988e-01, -7.56712630e-02,\n",
       "        -1.72378555e-01, -5.88006116e-02, -7.66097233e-02, -8.17500651e-02,\n",
       "        -5.76052703e-02, -8.20051879e-02, -5.33731543e-02, -5.12995422e-02,\n",
       "        -1.28329247e-01, -1.09045997e-01, -9.70425382e-02, -8.31617564e-02,\n",
       "        -7.10455924e-02, -2.08843201e-02, -8.26952606e-02, -1.18410386e-01],\n",
       "       dtype=float32),\n",
       " array([[ 0.01230106,  0.05976423,  0.13706963, ...,  0.10712471,\n",
       "          0.00324922,  0.16515622],\n",
       "        [ 0.04058111,  0.05746649,  0.08569571, ...,  0.11331906,\n",
       "          0.12043469,  0.08081584],\n",
       "        [-0.03965283, -0.05971223, -0.09903435, ..., -0.01984033,\n",
       "          0.00579589,  0.00882316],\n",
       "        ...,\n",
       "        [ 0.06085996,  0.06202089,  0.04227069, ...,  0.13910607,\n",
       "          0.18222897,  0.1763385 ],\n",
       "        [ 0.09897398,  0.1135226 ,  0.16677403, ...,  0.01189263,\n",
       "          0.09300365,  0.0904767 ],\n",
       "        [ 0.03015566,  0.01479833, -0.00440876, ..., -0.01436109,\n",
       "          0.18069518,  0.06325957]], dtype=float32),\n",
       " array([0.04287576, 0.04233463, 0.04220861, 0.04348812, 0.0435456 ,\n",
       "        0.04307473, 0.04265796, 0.04433472, 0.04359058, 0.04556897,\n",
       "        0.04389692, 0.04588813, 0.0438212 , 0.04316594, 0.04378996,\n",
       "        0.04734164, 0.0485022 , 0.04634458, 0.04675278, 0.04733827,\n",
       "        0.04737271, 0.04860656, 0.0472875 , 0.04949271, 0.05021678,\n",
       "        0.05013393, 0.04989025, 0.0494053 , 0.05120934, 0.05154744],\n",
       "       dtype=float32)]"
      ]
     },
     "execution_count": 29,
     "metadata": {},
     "output_type": "execute_result"
    }
   ],
   "source": [
    "# bt_model\n",
    "bt_model.summary()\n",
    "bt_model.save('bt_model_dense.h5')\n",
    "bt_model.get_weights()\n",
    "# bt_model.save_weights('bt_model_weights') "
   ]
  }
 ],
 "metadata": {
  "anaconda-cloud": {},
  "kernelspec": {
   "display_name": "Python 3",
   "language": "python",
   "name": "python3"
  },
  "language_info": {
   "codemirror_mode": {
    "name": "ipython",
    "version": 3
   },
   "file_extension": ".py",
   "mimetype": "text/x-python",
   "name": "python",
   "nbconvert_exporter": "python",
   "pygments_lexer": "ipython3",
   "version": "3.6.5"
  },
  "widgets": {
   "state": {
    "200ff45abb3b47f3ade09c6ce91695fb": {
     "views": [
      {
       "cell_index": 21
      }
     ]
    }
   },
   "version": "1.2.0"
  }
 },
 "nbformat": 4,
 "nbformat_minor": 1
}
